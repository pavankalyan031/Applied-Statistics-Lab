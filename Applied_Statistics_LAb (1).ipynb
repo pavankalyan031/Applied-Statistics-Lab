{
  "nbformat": 4,
  "nbformat_minor": 0,
  "metadata": {
    "colab": {
      "provenance": []
    },
    "kernelspec": {
      "name": "python3",
      "display_name": "Python 3"
    },
    "language_info": {
      "name": "python"
    }
  },
  "cells": [
    {
      "cell_type": "code",
      "execution_count": null,
      "metadata": {
        "colab": {
          "base_uri": "https://localhost:8080/"
        },
        "id": "TLpVgeKqqNe6",
        "outputId": "f041df5a-859a-4873-8b31-c57d7a25c659"
      },
      "outputs": [
        {
          "output_type": "stream",
          "name": "stdout",
          "text": [
            "0    P\n",
            "1    A\n",
            "2    V\n",
            "3    A\n",
            "4    N\n",
            "dtype: object\n"
          ]
        }
      ],
      "source": [
        "import pandas as pd\n",
        "import numpy as np\n",
        "info = np.array(['P','A','V','A','N'])\n",
        "a = pd.Series(info)\n",
        "print(a)"
      ]
    },
    {
      "cell_type": "code",
      "source": [
        "# a list of string\n",
        "x = ['Pavan','Kalyan']\n",
        "# Calling DataFrame constructor on list\n",
        "df = pd.DataFrame(x)\n",
        "print(df)"
      ],
      "metadata": {
        "colab": {
          "base_uri": "https://localhost:8080/"
        },
        "id": "jMAZ2u8gtUSB",
        "outputId": "c540d2da-aa1d-40bc-f9cf-9968bde6aa43"
      },
      "execution_count": null,
      "outputs": [
        {
          "output_type": "stream",
          "name": "stdout",
          "text": [
            "        0\n",
            "0   Pavan\n",
            "1  Kalyan\n"
          ]
        }
      ]
    },
    {
      "cell_type": "code",
      "source": [
        "# Pandas Series.map()\n",
        "#Example: 1\n",
        "import pandas as pd\n",
        "import numpy as np\n",
        "a = pd.Series(['Java', 'pycharm', 'jupiter','np.Pavan'])\n",
        "a.map({'Java': 'Hello'})"
      ],
      "metadata": {
        "colab": {
          "base_uri": "https://localhost:8080/"
        },
        "id": "0o2V3UEYthbH",
        "outputId": "0719c483-bcff-4802-8146-63da8c09c23e"
      },
      "execution_count": null,
      "outputs": [
        {
          "output_type": "execute_result",
          "data": {
            "text/plain": [
              "0    Hello\n",
              "1      NaN\n",
              "2      NaN\n",
              "3      NaN\n",
              "dtype: object"
            ]
          },
          "metadata": {},
          "execution_count": 9
        }
      ]
    },
    {
      "cell_type": "code",
      "source": [
        "#Example: 2\n",
        "import pandas as pd\n",
        "import numpy as np\n",
        "a = pd.Series(['Java', 'pycharm', 'jupiter', 'np.Pavan'])\n",
        "a.map({'Java':'Hello'})\n",
        "a.map('I Like {}'.format, na_action='ignore')"
      ],
      "metadata": {
        "colab": {
          "base_uri": "https://localhost:8080/"
        },
        "id": "RShltjmXulHv",
        "outputId": "e3104a42-4fb1-4c8d-b309-23c7affd4124"
      },
      "execution_count": null,
      "outputs": [
        {
          "output_type": "execute_result",
          "data": {
            "text/plain": [
              "0        I Like Java\n",
              "1     I Like pycharm\n",
              "2     I Like jupiter\n",
              "3    I Like np.Pavan\n",
              "dtype: object"
            ]
          },
          "metadata": {},
          "execution_count": 10
        }
      ]
    },
    {
      "cell_type": "code",
      "source": [
        "# Pandas Series.to_frame()\n",
        "# Example: 1\n",
        "import pandas as pd\n",
        "import numpy as np\n",
        "a = pd.Series([\"a\",\"b\",\"c\"],\n",
        "              name = \"Pavan\")\n",
        "a.to_frame()"
      ],
      "metadata": {
        "colab": {
          "base_uri": "https://localhost:8080/",
          "height": 143
        },
        "id": "YsqWCjE5wijH",
        "outputId": "76ce9f36-94d1-4cda-845b-7b13d1fddc01"
      },
      "execution_count": null,
      "outputs": [
        {
          "output_type": "execute_result",
          "data": {
            "text/plain": [
              "  Pavan\n",
              "0     a\n",
              "1     b\n",
              "2     c"
            ],
            "text/html": [
              "\n",
              "  <div id=\"df-2ee401b1-abbd-49b0-9464-0a3f116c6ef4\" class=\"colab-df-container\">\n",
              "    <div>\n",
              "<style scoped>\n",
              "    .dataframe tbody tr th:only-of-type {\n",
              "        vertical-align: middle;\n",
              "    }\n",
              "\n",
              "    .dataframe tbody tr th {\n",
              "        vertical-align: top;\n",
              "    }\n",
              "\n",
              "    .dataframe thead th {\n",
              "        text-align: right;\n",
              "    }\n",
              "</style>\n",
              "<table border=\"1\" class=\"dataframe\">\n",
              "  <thead>\n",
              "    <tr style=\"text-align: right;\">\n",
              "      <th></th>\n",
              "      <th>Pavan</th>\n",
              "    </tr>\n",
              "  </thead>\n",
              "  <tbody>\n",
              "    <tr>\n",
              "      <th>0</th>\n",
              "      <td>a</td>\n",
              "    </tr>\n",
              "    <tr>\n",
              "      <th>1</th>\n",
              "      <td>b</td>\n",
              "    </tr>\n",
              "    <tr>\n",
              "      <th>2</th>\n",
              "      <td>c</td>\n",
              "    </tr>\n",
              "  </tbody>\n",
              "</table>\n",
              "</div>\n",
              "    <div class=\"colab-df-buttons\">\n",
              "\n",
              "  <div class=\"colab-df-container\">\n",
              "    <button class=\"colab-df-convert\" onclick=\"convertToInteractive('df-2ee401b1-abbd-49b0-9464-0a3f116c6ef4')\"\n",
              "            title=\"Convert this dataframe to an interactive table.\"\n",
              "            style=\"display:none;\">\n",
              "\n",
              "  <svg xmlns=\"http://www.w3.org/2000/svg\" height=\"24px\" viewBox=\"0 -960 960 960\">\n",
              "    <path d=\"M120-120v-720h720v720H120Zm60-500h600v-160H180v160Zm220 220h160v-160H400v160Zm0 220h160v-160H400v160ZM180-400h160v-160H180v160Zm440 0h160v-160H620v160ZM180-180h160v-160H180v160Zm440 0h160v-160H620v160Z\"/>\n",
              "  </svg>\n",
              "    </button>\n",
              "\n",
              "  <style>\n",
              "    .colab-df-container {\n",
              "      display:flex;\n",
              "      gap: 12px;\n",
              "    }\n",
              "\n",
              "    .colab-df-convert {\n",
              "      background-color: #E8F0FE;\n",
              "      border: none;\n",
              "      border-radius: 50%;\n",
              "      cursor: pointer;\n",
              "      display: none;\n",
              "      fill: #1967D2;\n",
              "      height: 32px;\n",
              "      padding: 0 0 0 0;\n",
              "      width: 32px;\n",
              "    }\n",
              "\n",
              "    .colab-df-convert:hover {\n",
              "      background-color: #E2EBFA;\n",
              "      box-shadow: 0px 1px 2px rgba(60, 64, 67, 0.3), 0px 1px 3px 1px rgba(60, 64, 67, 0.15);\n",
              "      fill: #174EA6;\n",
              "    }\n",
              "\n",
              "    .colab-df-buttons div {\n",
              "      margin-bottom: 4px;\n",
              "    }\n",
              "\n",
              "    [theme=dark] .colab-df-convert {\n",
              "      background-color: #3B4455;\n",
              "      fill: #D2E3FC;\n",
              "    }\n",
              "\n",
              "    [theme=dark] .colab-df-convert:hover {\n",
              "      background-color: #434B5C;\n",
              "      box-shadow: 0px 1px 3px 1px rgba(0, 0, 0, 0.15);\n",
              "      filter: drop-shadow(0px 1px 2px rgba(0, 0, 0, 0.3));\n",
              "      fill: #FFFFFF;\n",
              "    }\n",
              "  </style>\n",
              "\n",
              "    <script>\n",
              "      const buttonEl =\n",
              "        document.querySelector('#df-2ee401b1-abbd-49b0-9464-0a3f116c6ef4 button.colab-df-convert');\n",
              "      buttonEl.style.display =\n",
              "        google.colab.kernel.accessAllowed ? 'block' : 'none';\n",
              "\n",
              "      async function convertToInteractive(key) {\n",
              "        const element = document.querySelector('#df-2ee401b1-abbd-49b0-9464-0a3f116c6ef4');\n",
              "        const dataTable =\n",
              "          await google.colab.kernel.invokeFunction('convertToInteractive',\n",
              "                                                    [key], {});\n",
              "        if (!dataTable) return;\n",
              "\n",
              "        const docLinkHtml = 'Like what you see? Visit the ' +\n",
              "          '<a target=\"_blank\" href=https://colab.research.google.com/notebooks/data_table.ipynb>data table notebook</a>'\n",
              "          + ' to learn more about interactive tables.';\n",
              "        element.innerHTML = '';\n",
              "        dataTable['output_type'] = 'display_data';\n",
              "        await google.colab.output.renderOutput(dataTable, element);\n",
              "        const docLink = document.createElement('div');\n",
              "        docLink.innerHTML = docLinkHtml;\n",
              "        element.appendChild(docLink);\n",
              "      }\n",
              "    </script>\n",
              "  </div>\n",
              "\n",
              "\n",
              "<div id=\"df-e92b62d8-02e7-40ef-9086-8bfe4d24b501\">\n",
              "  <button class=\"colab-df-quickchart\" onclick=\"quickchart('df-e92b62d8-02e7-40ef-9086-8bfe4d24b501')\"\n",
              "            title=\"Suggest charts\"\n",
              "            style=\"display:none;\">\n",
              "\n",
              "<svg xmlns=\"http://www.w3.org/2000/svg\" height=\"24px\"viewBox=\"0 0 24 24\"\n",
              "     width=\"24px\">\n",
              "    <g>\n",
              "        <path d=\"M19 3H5c-1.1 0-2 .9-2 2v14c0 1.1.9 2 2 2h14c1.1 0 2-.9 2-2V5c0-1.1-.9-2-2-2zM9 17H7v-7h2v7zm4 0h-2V7h2v10zm4 0h-2v-4h2v4z\"/>\n",
              "    </g>\n",
              "</svg>\n",
              "  </button>\n",
              "\n",
              "<style>\n",
              "  .colab-df-quickchart {\n",
              "      --bg-color: #E8F0FE;\n",
              "      --fill-color: #1967D2;\n",
              "      --hover-bg-color: #E2EBFA;\n",
              "      --hover-fill-color: #174EA6;\n",
              "      --disabled-fill-color: #AAA;\n",
              "      --disabled-bg-color: #DDD;\n",
              "  }\n",
              "\n",
              "  [theme=dark] .colab-df-quickchart {\n",
              "      --bg-color: #3B4455;\n",
              "      --fill-color: #D2E3FC;\n",
              "      --hover-bg-color: #434B5C;\n",
              "      --hover-fill-color: #FFFFFF;\n",
              "      --disabled-bg-color: #3B4455;\n",
              "      --disabled-fill-color: #666;\n",
              "  }\n",
              "\n",
              "  .colab-df-quickchart {\n",
              "    background-color: var(--bg-color);\n",
              "    border: none;\n",
              "    border-radius: 50%;\n",
              "    cursor: pointer;\n",
              "    display: none;\n",
              "    fill: var(--fill-color);\n",
              "    height: 32px;\n",
              "    padding: 0;\n",
              "    width: 32px;\n",
              "  }\n",
              "\n",
              "  .colab-df-quickchart:hover {\n",
              "    background-color: var(--hover-bg-color);\n",
              "    box-shadow: 0 1px 2px rgba(60, 64, 67, 0.3), 0 1px 3px 1px rgba(60, 64, 67, 0.15);\n",
              "    fill: var(--button-hover-fill-color);\n",
              "  }\n",
              "\n",
              "  .colab-df-quickchart-complete:disabled,\n",
              "  .colab-df-quickchart-complete:disabled:hover {\n",
              "    background-color: var(--disabled-bg-color);\n",
              "    fill: var(--disabled-fill-color);\n",
              "    box-shadow: none;\n",
              "  }\n",
              "\n",
              "  .colab-df-spinner {\n",
              "    border: 2px solid var(--fill-color);\n",
              "    border-color: transparent;\n",
              "    border-bottom-color: var(--fill-color);\n",
              "    animation:\n",
              "      spin 1s steps(1) infinite;\n",
              "  }\n",
              "\n",
              "  @keyframes spin {\n",
              "    0% {\n",
              "      border-color: transparent;\n",
              "      border-bottom-color: var(--fill-color);\n",
              "      border-left-color: var(--fill-color);\n",
              "    }\n",
              "    20% {\n",
              "      border-color: transparent;\n",
              "      border-left-color: var(--fill-color);\n",
              "      border-top-color: var(--fill-color);\n",
              "    }\n",
              "    30% {\n",
              "      border-color: transparent;\n",
              "      border-left-color: var(--fill-color);\n",
              "      border-top-color: var(--fill-color);\n",
              "      border-right-color: var(--fill-color);\n",
              "    }\n",
              "    40% {\n",
              "      border-color: transparent;\n",
              "      border-right-color: var(--fill-color);\n",
              "      border-top-color: var(--fill-color);\n",
              "    }\n",
              "    60% {\n",
              "      border-color: transparent;\n",
              "      border-right-color: var(--fill-color);\n",
              "    }\n",
              "    80% {\n",
              "      border-color: transparent;\n",
              "      border-right-color: var(--fill-color);\n",
              "      border-bottom-color: var(--fill-color);\n",
              "    }\n",
              "    90% {\n",
              "      border-color: transparent;\n",
              "      border-bottom-color: var(--fill-color);\n",
              "    }\n",
              "  }\n",
              "</style>\n",
              "\n",
              "  <script>\n",
              "    async function quickchart(key) {\n",
              "      const quickchartButtonEl =\n",
              "        document.querySelector('#' + key + ' button');\n",
              "      quickchartButtonEl.disabled = true;  // To prevent multiple clicks.\n",
              "      quickchartButtonEl.classList.add('colab-df-spinner');\n",
              "      try {\n",
              "        const charts = await google.colab.kernel.invokeFunction(\n",
              "            'suggestCharts', [key], {});\n",
              "      } catch (error) {\n",
              "        console.error('Error during call to suggestCharts:', error);\n",
              "      }\n",
              "      quickchartButtonEl.classList.remove('colab-df-spinner');\n",
              "      quickchartButtonEl.classList.add('colab-df-quickchart-complete');\n",
              "    }\n",
              "    (() => {\n",
              "      let quickchartButtonEl =\n",
              "        document.querySelector('#df-e92b62d8-02e7-40ef-9086-8bfe4d24b501 button');\n",
              "      quickchartButtonEl.style.display =\n",
              "        google.colab.kernel.accessAllowed ? 'block' : 'none';\n",
              "    })();\n",
              "  </script>\n",
              "</div>\n",
              "\n",
              "    </div>\n",
              "  </div>\n"
            ],
            "application/vnd.google.colaboratory.intrinsic+json": {
              "type": "dataframe",
              "summary": "{\n  \"name\": \"a\",\n  \"rows\": 3,\n  \"fields\": [\n    {\n      \"column\": \"Pavan\",\n      \"properties\": {\n        \"dtype\": \"string\",\n        \"num_unique_values\": 3,\n        \"samples\": [\n          \"a\",\n          \"b\",\n          \"c\"\n        ],\n        \"semantic_type\": \"\",\n        \"description\": \"\"\n      }\n    }\n  ]\n}"
            }
          },
          "metadata": {},
          "execution_count": 31
        }
      ]
    },
    {
      "cell_type": "code",
      "source": [
        "import pandas as pd\n",
        "import matplotlib.pyplot as plt\n",
        "emp = [\"Pavan\",\"Manjesh\",\"Animess\",\"Ankit\",\"Pratik\"]\n",
        "id = [100,200,300,400,500]\n",
        "salary = [10000,20000,30000,40000,50000]\n",
        "emp_series = pd.Series(emp)\n",
        "id_series=pd.Series(id)\n",
        "salary_series = pd.Series(salary)\n",
        "frame = {'Emp': emp_series, 'ID': id_series, 'Salary': salary_series}\n",
        "result = pd.DataFrame(frame)\n",
        "print(result)"
      ],
      "metadata": {
        "colab": {
          "base_uri": "https://localhost:8080/"
        },
        "id": "IQ54ClNyyvSX",
        "outputId": "ac12e4f0-4090-41b0-bccc-3f1d038c8161"
      },
      "execution_count": null,
      "outputs": [
        {
          "output_type": "stream",
          "name": "stdout",
          "text": [
            "       Emp   ID  Salary\n",
            "0    Pavan  100   10000\n",
            "1  Manjesh  200   20000\n",
            "2  Animess  300   30000\n",
            "3    Ankit  400   40000\n",
            "4   Pratik  500   50000\n"
          ]
        }
      ]
    },
    {
      "cell_type": "code",
      "source": [
        "# importing the pandas library\n",
        "import pandas as pd\n",
        "df = pd.DataFrame()\n",
        "print(df)"
      ],
      "metadata": {
        "id": "FXTANcym4aZ_",
        "colab": {
          "base_uri": "https://localhost:8080/"
        },
        "outputId": "a2c8658c-2c83-45d1-9a14-41f872fc2452"
      },
      "execution_count": null,
      "outputs": [
        {
          "output_type": "stream",
          "name": "stdout",
          "text": [
            "Empty DataFrame\n",
            "Columns: []\n",
            "Index: []\n"
          ]
        }
      ]
    },
    {
      "cell_type": "code",
      "source": [
        "# importing the pandas library\n",
        "import pandas as pd\n",
        "# a list of strings\n",
        "x = [\"Python\", \"Java\", \"C++\"]\n",
        "# Calling DataFrame constructor on list\n",
        "df = pd.DataFrame(x)\n",
        "print(df)"
      ],
      "metadata": {
        "colab": {
          "base_uri": "https://localhost:8080/"
        },
        "id": "yG9c1T18B9b8",
        "outputId": "e6fc56ba-c193-4891-e827-9bf6f04925d1"
      },
      "execution_count": null,
      "outputs": [
        {
          "output_type": "stream",
          "name": "stdout",
          "text": [
            "        0\n",
            "0  Python\n",
            "1    Java\n",
            "2     C++\n"
          ]
        }
      ]
    },
    {
      "cell_type": "code",
      "source": [
        "# importing the pandas library\n",
        "import pandas as pd\n",
        "info = {\"ID\": [100, 200, 300, 400],\"Department\": [\"B.sc\", \"M.sc\", \"B.sc\", \"M.sc\"]}\n",
        "df = pd.DataFrame(info)\n",
        "print(df)"
      ],
      "metadata": {
        "colab": {
          "base_uri": "https://localhost:8080/"
        },
        "id": "CWfT8yCCCTat",
        "outputId": "11c5c0e2-5889-4185-c20c-bf3765d43261"
      },
      "execution_count": null,
      "outputs": [
        {
          "output_type": "stream",
          "name": "stdout",
          "text": [
            "    ID Department\n",
            "0  100       B.sc\n",
            "1  200       M.sc\n",
            "2  300       B.sc\n",
            "3  400       M.sc\n"
          ]
        }
      ]
    },
    {
      "cell_type": "code",
      "source": [
        "# importing the pandas library\n",
        "import pandas as pd\n",
        "\n",
        "info = {\"one\": pd.Series([1, 2, 3, 4, 5], index = [\"a\", \"b\", \"c\", \"d\", \"e\"]),\n",
        "        \"two\": pd.Series([10, 20, 30, 40, 50,60 ,70], index = [\"a\", \"b\", \"c\", \"d\", \"e\", \"f\", \"h\"])}\n",
        "df = pd.DataFrame(info)\n",
        "print(df)"
      ],
      "metadata": {
        "colab": {
          "base_uri": "https://localhost:8080/"
        },
        "id": "BP0K2HsxC9aj",
        "outputId": "58c7472b-83f0-46ba-f635-61d555e3dbb3"
      },
      "execution_count": null,
      "outputs": [
        {
          "output_type": "stream",
          "name": "stdout",
          "text": [
            "   one  two\n",
            "a  1.0   10\n",
            "b  2.0   20\n",
            "c  3.0   30\n",
            "d  4.0   40\n",
            "e  5.0   50\n",
            "f  NaN   60\n",
            "h  NaN   70\n"
          ]
        }
      ]
    },
    {
      "cell_type": "code",
      "source": [
        "# importing the pandas library\n",
        "import pandas as pd\n",
        "info = {\"one\": pd.Series([1, 2, 3, 4, 5], index = [\"a\", \"b\", \"c\", \"d\", \"e\"]),\n",
        "        'two': pd.Series([10, 20, 30, 40, 50, 60, 70], index = [\"a\", \"b\", \"c\", \"d\", \"e\", \"f\", \"h\"])}\n",
        "d1 = pd.DataFrame(info)\n",
        "print(d1[\"one\"])"
      ],
      "metadata": {
        "colab": {
          "base_uri": "https://localhost:8080/"
        },
        "id": "HXae3LxYEfZE",
        "outputId": "acc46dc7-a327-47a4-fccc-454abeac51da"
      },
      "execution_count": null,
      "outputs": [
        {
          "output_type": "stream",
          "name": "stdout",
          "text": [
            "a    1.0\n",
            "b    2.0\n",
            "c    3.0\n",
            "d    4.0\n",
            "e    5.0\n",
            "f    NaN\n",
            "h    NaN\n",
            "Name: one, dtype: float64\n"
          ]
        }
      ]
    },
    {
      "cell_type": "code",
      "source": [
        "# importing the pandas library\n",
        "import pandas as pd\n",
        "info = {\"one\": pd.Series([1, 2, 3, 4, 5], index = [\"a\", \"b\", \"c\", \"d\", \"e\"]),\n",
        "        'two': pd.Series([1,2,3,4,5,6], index = [\"a\", \"b\", \"c\", \"d\", \"e\", \"f\"])}\n",
        "df = pd.DataFrame(info)\n",
        "# Add a new column to an existing DataFrame object\n",
        "print(\"Adding a new column by passing as Series:\")\n",
        "df['three']= pd.Series([100, 200, 300, 400, 500], index = [\"a\", \"b\", \"c\", \"d\", \"e\"])\n",
        "print(df)\n",
        "print(\"Adding a new column using existing DataFrame columns\")\n",
        "df['four']= df['one']+df['three']\n",
        "print(df)"
      ],
      "metadata": {
        "colab": {
          "base_uri": "https://localhost:8080/"
        },
        "id": "aFPun1I7F71t",
        "outputId": "09dea265-b41d-4750-ca6f-f78efc909af7"
      },
      "execution_count": null,
      "outputs": [
        {
          "output_type": "stream",
          "name": "stdout",
          "text": [
            "Adding a new column by passing as Series:\n",
            "   one  two  three\n",
            "a  1.0    1  100.0\n",
            "b  2.0    2  200.0\n",
            "c  3.0    3  300.0\n",
            "d  4.0    4  400.0\n",
            "e  5.0    5  500.0\n",
            "f  NaN    6    NaN\n",
            "Adding a new column using existing DataFrame columns\n",
            "   one  two  three   four\n",
            "a  1.0    1  100.0  101.0\n",
            "b  2.0    2  200.0  202.0\n",
            "c  3.0    3  300.0  303.0\n",
            "d  4.0    4  400.0  404.0\n",
            "e  5.0    5  500.0  505.0\n",
            "f  NaN    6    NaN    NaN\n"
          ]
        }
      ]
    },
    {
      "cell_type": "code",
      "source": [
        "# importing the pandas library\n",
        "import pandas as pd\n",
        "info = {'one': pd.Series([1,2], index=['a','b']),\n",
        "        'two': pd.Series([1,2,3], index=['a','b','c'])}\n",
        "df = pd.DataFrame(info)\n",
        "print(\"The DataFrame:\")\n",
        "print(df)\n",
        "# using del function\n",
        "print(\"Deleting the first column:\")\n",
        "del df['one']\n",
        "print(df)\n",
        "# using pop function\n",
        "print(\"Deleting the another column:\")\n",
        "df.pop('two')\n",
        "print(df)"
      ],
      "metadata": {
        "colab": {
          "base_uri": "https://localhost:8080/"
        },
        "id": "Tgj1SGZBHxZR",
        "outputId": "d022049d-7fd4-4196-8087-73e95331ac37"
      },
      "execution_count": null,
      "outputs": [
        {
          "output_type": "stream",
          "name": "stdout",
          "text": [
            "The DataFrame:\n",
            "   one  two\n",
            "a  1.0    1\n",
            "b  2.0    2\n",
            "c  NaN    3\n",
            "Deleting the first column:\n",
            "   two\n",
            "a    1\n",
            "b    2\n",
            "c    3\n",
            "Deleting the another column:\n",
            "Empty DataFrame\n",
            "Columns: []\n",
            "Index: [a, b, c]\n"
          ]
        }
      ]
    },
    {
      "cell_type": "code",
      "source": [
        "# importing he pandas library\n",
        "import pandas as pd\n",
        "info = {'one': pd.Series([1,2,3,4], index = ['a', 'b', 'c', 'd']),\n",
        "        'two': pd.Series([1,2,3,4,5], index = ['a', 'b', 'c', 'd', 'e'])}\n",
        "df = pd.DataFrame(info)\n",
        "print(df.iloc[2])"
      ],
      "metadata": {
        "colab": {
          "base_uri": "https://localhost:8080/"
        },
        "id": "1-smfYQvJ357",
        "outputId": "23006490-e62a-420d-dcff-094525cb8bf2"
      },
      "execution_count": null,
      "outputs": [
        {
          "output_type": "stream",
          "name": "stdout",
          "text": [
            "one    3.0\n",
            "two    3.0\n",
            "Name: c, dtype: float64\n"
          ]
        }
      ]
    },
    {
      "cell_type": "code",
      "source": [
        "# importing the pandas library\n",
        "import pandas as pd\n",
        "info = {'one': pd.Series([1,2,3,4,5], index = ['a', 'b', 'c', 'd','e']),\n",
        "        'two': pd.Series([1,2,3,4,5,6], index=['a','b','c','d','e','f'])}\n",
        "df = pd.DataFrame(info)\n",
        "print(df[2:5])"
      ],
      "metadata": {
        "colab": {
          "base_uri": "https://localhost:8080/"
        },
        "id": "I1I1GRddK3Fo",
        "outputId": "a9dfbfa5-e545-4b35-dea3-4d6784131cdf"
      },
      "execution_count": null,
      "outputs": [
        {
          "output_type": "stream",
          "name": "stdout",
          "text": [
            "   one  two\n",
            "c  3.0    3\n",
            "d  4.0    4\n",
            "e  5.0    5\n"
          ]
        }
      ]
    },
    {
      "cell_type": "code",
      "source": [
        "# importing the panadas library\n",
        "import pandas as pd\n",
        "d = pd.DataFrame([[1,2],[3,4]], columns=['x','y'])\n",
        "d2 = pd.DataFrame([[5,6],[7,8]], columns=['x','y'])\n",
        "d = d.append(d2)\n",
        "print(d)"
      ],
      "metadata": {
        "colab": {
          "base_uri": "https://localhost:8080/"
        },
        "id": "JrlXsDYuNdPD",
        "outputId": "6d25956a-dc27-4604-ecc3-2b6f3f2502e6"
      },
      "execution_count": null,
      "outputs": [
        {
          "output_type": "stream",
          "name": "stdout",
          "text": [
            "   x  y\n",
            "0  1  2\n",
            "1  3  4\n",
            "0  5  6\n",
            "1  7  8\n"
          ]
        },
        {
          "output_type": "stream",
          "name": "stderr",
          "text": [
            "<ipython-input-37-050a74d857c9>:5: FutureWarning: The frame.append method is deprecated and will be removed from pandas in a future version. Use pandas.concat instead.\n",
            "  d = d.append(d2)\n"
          ]
        }
      ]
    },
    {
      "cell_type": "code",
      "source": [
        "# importing the pandas as pd\n",
        "import pandas as pd\n",
        "a_info = pd.DataFrame([[1,2],[3,4]], columns=['x','y'])\n",
        "b_info = pd.DataFrame([[5,6],[7,8]], columns=['x','y'])\n",
        "a_info = a_info.append(b_info)\n",
        "# Drop rows with label 0\n",
        "a_info = a_info.drop(0)\n",
        "print(a_info)\n",
        "print(b_info)"
      ],
      "metadata": {
        "colab": {
          "base_uri": "https://localhost:8080/"
        },
        "id": "Kt-8WB-uQ73s",
        "outputId": "a5f1477d-46a5-4c1f-bb56-cae39f0478e9"
      },
      "execution_count": null,
      "outputs": [
        {
          "output_type": "stream",
          "name": "stdout",
          "text": [
            "   x  y\n",
            "1  3  4\n",
            "1  7  8\n",
            "   x  y\n",
            "0  5  6\n",
            "1  7  8\n"
          ]
        },
        {
          "output_type": "stream",
          "name": "stderr",
          "text": [
            "<ipython-input-42-d0367e013d07>:5: FutureWarning: The frame.append method is deprecated and will be removed from pandas in a future version. Use pandas.concat instead.\n",
            "  a_info = a_info.append(b_info)\n"
          ]
        }
      ]
    },
    {
      "cell_type": "code",
      "source": [
        "# importing the 'array' for demonstrating array operations\n",
        "import array\n",
        "# initializing an array with array values and signed integers\n",
        "arr = array.array('l', [2,4,6,8,10,12])\n",
        "# print the original array\n",
        "print(\"New created array:\" , end=\" \")\n",
        "for l in range (0,5):\n",
        "  print(arr[l], end=\" \")\n",
        "print(\"\\r\")"
      ],
      "metadata": {
        "id": "LGNasqzfSGrS",
        "colab": {
          "base_uri": "https://localhost:8080/"
        },
        "outputId": "96c17270-3b15-4f0b-e0e9-a4074f050bd1"
      },
      "execution_count": null,
      "outputs": [
        {
          "output_type": "stream",
          "name": "stdout",
          "text": [
            "New created array: 2 4 6 8 10 \r\n"
          ]
        }
      ]
    },
    {
      "cell_type": "code",
      "source": [
        "# Example 1\n",
        "# importing pandas as pd\n",
        "import pandas as pd\n",
        "# dictionary of lists\n",
        "dict = {\"name\":[\"Pavan\", \"Kalyan\", \"Manjesh\", \"Animesh\"],\n",
        "'age':[\"18\",\"18\",\"17\", \"18\"]}\n",
        "info = pd.DataFrame(dict, index = [True,True, False, True])\n",
        "print(info)"
      ],
      "metadata": {
        "id": "_j9xR2UkSVQp",
        "colab": {
          "base_uri": "https://localhost:8080/"
        },
        "outputId": "278a18ae-5212-488c-e153-be8d39bbc8fd"
      },
      "execution_count": null,
      "outputs": [
        {
          "output_type": "stream",
          "name": "stdout",
          "text": [
            "          name age\n",
            "True     Pavan  18\n",
            "True    Kalyan  18\n",
            "False  Manjesh  17\n",
            "True   Animesh  18\n"
          ]
        }
      ]
    },
    {
      "cell_type": "code",
      "source": [
        "# Example 2\n",
        "# importing pandas as pd\n",
        "import pandas as pd\n",
        "# dictionary of lists\n",
        "dict = {\"name\":[\"Ramu\", \"Rohit\", \"Bheem Rao\", \"Pulaji\"],\n",
        "'age':[\"19\",\"18\",\"20\", \"18\"]}\n",
        "info = pd.DataFrame(dict, index = [True,True, False, True])\n",
        "# accessing a dataframe using .loc[] function\n",
        "print(info.loc[True])"
      ],
      "metadata": {
        "colab": {
          "base_uri": "https://localhost:8080/"
        },
        "id": "w2UH-GGDXZHR",
        "outputId": "f600a1fb-db5c-4ffe-a1c5-fb5973c68e9d"
      },
      "execution_count": null,
      "outputs": [
        {
          "output_type": "stream",
          "name": "stdout",
          "text": [
            "        name age\n",
            "True    Ramu  19\n",
            "True   Rohit  18\n",
            "True  Pulaji  18\n"
          ]
        }
      ]
    },
    {
      "cell_type": "code",
      "source": [
        "import numpy as np\n",
        "arr = np.arange(16)\n",
        "print(\"The Original array is: \\n\", arr)\n",
        "# shape array with 2 rows and 8 columns\n",
        "arr = np.arange(16).reshape(2,8)\n",
        "print(\"\\nreshapedarray: \\n\", arr)\n",
        "# shape array with 2 rows and 8 columns\n",
        "arr = np.arange(16).reshape(8,2)\n",
        "print(\"\\nreshaped array: \\n\", arr)"
      ],
      "metadata": {
        "colab": {
          "base_uri": "https://localhost:8080/"
        },
        "id": "SLYbLOuSYlsv",
        "outputId": "b0d4db67-e192-4edc-fcda-876ab4aab1e2"
      },
      "execution_count": null,
      "outputs": [
        {
          "output_type": "stream",
          "name": "stdout",
          "text": [
            "The Original array is: \n",
            " [ 0  1  2  3  4  5  6  7  8  9 10 11 12 13 14 15]\n",
            "\n",
            "reshapedarray: \n",
            " [[ 0  1  2  3  4  5  6  7]\n",
            " [ 8  9 10 11 12 13 14 15]]\n",
            "\n",
            "reshaped array: \n",
            " [[ 0  1]\n",
            " [ 2  3]\n",
            " [ 4  5]\n",
            " [ 6  7]\n",
            " [ 8  9]\n",
            " [10 11]\n",
            " [12 13]\n",
            " [14 15]]\n"
          ]
        }
      ]
    },
    {
      "cell_type": "code",
      "source": [
        "import numpy as np\n",
        "a = np.array([1,2,3])\n",
        "print(type(a))\n",
        "print(a.shape)\n",
        "print(a[0], a[1], a[2])\n",
        "a[0] = 5\n",
        "print(a)\n",
        "b =np.array([[1,2,3],[4,5,6]])\n",
        "print(b.shape)\n",
        "print(b[0,0], b[0,1], b[1,0])"
      ],
      "metadata": {
        "colab": {
          "base_uri": "https://localhost:8080/"
        },
        "id": "sBeKaTdNbD5_",
        "outputId": "eeeb23e3-1aa6-494e-c994-cb32eb8f43a9"
      },
      "execution_count": null,
      "outputs": [
        {
          "output_type": "stream",
          "name": "stdout",
          "text": [
            "<class 'numpy.ndarray'>\n",
            "(3,)\n",
            "1 2 3\n",
            "[5 2 3]\n",
            "(2, 3)\n",
            "1 2 4\n"
          ]
        }
      ]
    },
    {
      "cell_type": "code",
      "source": [
        "import numpy as np\n",
        "a = np.zeros((2,2))\n",
        "print(a)\n",
        "b = np.ones((2,2))\n",
        "print(b)\n",
        "c = np.full((2,2), 7)\n",
        "print(c)\n",
        "d = np.eye(2)\n",
        "print(d)\n",
        "e = np.random.random((2,2))\n",
        "print(e)"
      ],
      "metadata": {
        "colab": {
          "base_uri": "https://localhost:8080/"
        },
        "id": "XgEIVnQ8c7pG",
        "outputId": "311a7d7c-392b-4f2b-cf1f-ec900b6497bb"
      },
      "execution_count": null,
      "outputs": [
        {
          "output_type": "stream",
          "name": "stdout",
          "text": [
            "[[0. 0.]\n",
            " [0. 0.]]\n",
            "[[1. 1.]\n",
            " [1. 1.]]\n",
            "[[7 7]\n",
            " [7 7]]\n",
            "[[1. 0.]\n",
            " [0. 1.]]\n",
            "[[0.61094963 0.63648175]\n",
            " [0.40508201 0.96890463]]\n"
          ]
        }
      ]
    },
    {
      "cell_type": "code",
      "source": [
        "import numpy as np\n",
        "a = np.array([[1,2,3,4],[5,6,7,8],[9,10,11,12]])\n",
        "b = a[:2, 1:3]\n",
        "print(a[0,1])\n",
        "b[0,0] = 77\n",
        "a[0,1]\n",
        "print(a[0,1])"
      ],
      "metadata": {
        "colab": {
          "base_uri": "https://localhost:8080/"
        },
        "id": "Y8EsfIbqe1XW",
        "outputId": "b8f9d905-3dba-4e56-d753-e8cbbbe33df2"
      },
      "execution_count": null,
      "outputs": [
        {
          "output_type": "stream",
          "name": "stdout",
          "text": [
            "2\n",
            "77\n"
          ]
        }
      ]
    },
    {
      "cell_type": "code",
      "source": [
        "import numpy as np\n",
        "a = np.array([[1,2,3,4],[5,6,7,8],[9,10,11,12]])\n",
        "row_r1 = a[1,:]\n",
        "row_r2 = a[1:2, :]\n",
        "print(row_r1, row_r1.shape)\n",
        "print(row_r2, row_r2.shape)\n",
        "col_r1 = a[:, 1]\n",
        "col_r2 = a[:, 1:2]\n",
        "print(col_r1, col_r1.shape)\n",
        "print(col_r2, col_r2.shape)"
      ],
      "metadata": {
        "colab": {
          "base_uri": "https://localhost:8080/"
        },
        "id": "zlWkiwqbhZIH",
        "outputId": "2b787509-0202-46bf-efda-07210e062b91"
      },
      "execution_count": null,
      "outputs": [
        {
          "output_type": "stream",
          "name": "stdout",
          "text": [
            "[5 6 7 8] (4,)\n",
            "[[5 6 7 8]] (1, 4)\n",
            "[ 2  6 10] (3,)\n",
            "[[ 2]\n",
            " [ 6]\n",
            " [10]] (3, 1)\n"
          ]
        }
      ]
    },
    {
      "cell_type": "code",
      "source": [
        "import numpy as np\n",
        "a = np.array([[1,2],[3,4],[5,6]])\n",
        "print(a[[0,1,2], [0,1,0]])\n",
        "print(np.array([a[0,0], a[1,1], a[2,0]]))\n",
        "print(a[[0,0], [1,1]])\n",
        "print(np.array([a[0,1], a[0,1]]))"
      ],
      "metadata": {
        "id": "Z6dNm_Cuj6LA",
        "colab": {
          "base_uri": "https://localhost:8080/"
        },
        "outputId": "3527cf50-8284-4688-cfad-ca822454519e"
      },
      "execution_count": null,
      "outputs": [
        {
          "output_type": "stream",
          "name": "stdout",
          "text": [
            "[1 4 5]\n",
            "[1 4 5]\n",
            "[2 2]\n",
            "[2 2]\n"
          ]
        }
      ]
    },
    {
      "cell_type": "code",
      "source": [
        "import numpy as np\n",
        "a = np.array([[1,2,3],[4,5,6],[7,8,9],[10,11,12]])\n",
        "b = np.array([0, 2, 0, 1])\n",
        "print(a[np.arange(4), b])\n",
        "a[np.arange(4), b] += 10\n",
        "print(a)"
      ],
      "metadata": {
        "colab": {
          "base_uri": "https://localhost:8080/"
        },
        "id": "vzEIjc3Uu2vS",
        "outputId": "e45847af-4d70-4783-901c-170e557e46a3"
      },
      "execution_count": null,
      "outputs": [
        {
          "output_type": "stream",
          "name": "stdout",
          "text": [
            "[ 1  6  7 11]\n",
            "[[11  2  3]\n",
            " [ 4  5 16]\n",
            " [17  8  9]\n",
            " [10 21 12]]\n"
          ]
        }
      ]
    },
    {
      "cell_type": "code",
      "source": [
        "import numpy as np\n",
        "a = np.array([[1,2],[3,4], [5,6]])\n",
        "bool_idx = (a > 2)\n",
        "print(bool_idx)\n",
        "print(a[bool_idx])\n",
        "print(a[a > 2])"
      ],
      "metadata": {
        "colab": {
          "base_uri": "https://localhost:8080/"
        },
        "id": "1NOdPLaavO3G",
        "outputId": "f8379f48-ba71-485d-dda3-ffbe2cb23cbc"
      },
      "execution_count": null,
      "outputs": [
        {
          "output_type": "stream",
          "name": "stdout",
          "text": [
            "[[False False]\n",
            " [ True  True]\n",
            " [ True  True]]\n",
            "[3 4 5 6]\n",
            "[3 4 5 6]\n"
          ]
        }
      ]
    },
    {
      "cell_type": "code",
      "source": [
        "#DataTypes\n",
        "import numpy as np\n",
        "x = np.array([1, 2])\n",
        "print(x.dtype)\n",
        "x = np.array([1.0, 2.0])\n",
        "print(x.dtype)\n",
        "x = np.array([1, 2], dtype=np.int64)\n",
        "print(x.dtype)\n"
      ],
      "metadata": {
        "colab": {
          "base_uri": "https://localhost:8080/"
        },
        "id": "uKSsx_KOvkyU",
        "outputId": "edef0a36-2d4d-4ac8-8e98-29447fd2b2d3"
      },
      "execution_count": null,
      "outputs": [
        {
          "output_type": "stream",
          "name": "stdout",
          "text": [
            "int64\n",
            "float64\n",
            "int64\n"
          ]
        }
      ]
    },
    {
      "cell_type": "code",
      "source": [
        "#Array math\n",
        "import numpy as np\n",
        "x = np.array([[1,2],[3,4]])\n",
        "y = np.array([[5,6],[7,8]])\n",
        "print(x + y)\n",
        "print(np.add(x, y))\n",
        "print(x - y)\n",
        "print(np.subtract(x, y))\n",
        "print(x * y)\n",
        "print(np.multiply(x, y))\n",
        "print(x / y)\n",
        "print(np.divide(x, y))\n",
        "print(np.sqrt(x))"
      ],
      "metadata": {
        "colab": {
          "base_uri": "https://localhost:8080/"
        },
        "id": "CsPwgHBLv4w3",
        "outputId": "571a7c24-add2-41b6-8554-8b90c7e1a027"
      },
      "execution_count": null,
      "outputs": [
        {
          "output_type": "stream",
          "name": "stdout",
          "text": [
            "[[ 6  8]\n",
            " [10 12]]\n",
            "[[ 6  8]\n",
            " [10 12]]\n",
            "[[-4 -4]\n",
            " [-4 -4]]\n",
            "[[-4 -4]\n",
            " [-4 -4]]\n",
            "[[ 5 12]\n",
            " [21 32]]\n",
            "[[ 5 12]\n",
            " [21 32]]\n",
            "[[0.2        0.33333333]\n",
            " [0.42857143 0.5       ]]\n",
            "[[0.2        0.33333333]\n",
            " [0.42857143 0.5       ]]\n",
            "[[1.         1.41421356]\n",
            " [1.73205081 2.        ]]\n"
          ]
        }
      ]
    },
    {
      "cell_type": "code",
      "source": [
        "#Dot function\n",
        "import numpy as np\n",
        "x = np.array([[1,2],[3,4]])\n",
        "y = np.array([[5,6],[7,8]])\n",
        "v = np.array([9,10])\n",
        "w = np.array([11, 12])\n",
        "print(v.dot(w))\n",
        "print(np.dot(v, w))\n",
        "print(x.dot(v))\n",
        "print(np.dot(x, v))\n",
        "print(x.dot(y))\n",
        "print(np.dot(x, y))"
      ],
      "metadata": {
        "colab": {
          "base_uri": "https://localhost:8080/"
        },
        "id": "NRQVmZ7awQux",
        "outputId": "d13fd8bc-3b63-4837-a275-2a749a701682"
      },
      "execution_count": 11,
      "outputs": [
        {
          "output_type": "stream",
          "name": "stdout",
          "text": [
            "219\n",
            "219\n",
            "[29 67]\n",
            "[29 67]\n",
            "[[19 22]\n",
            " [43 50]]\n",
            "[[19 22]\n",
            " [43 50]]\n"
          ]
        }
      ]
    },
    {
      "cell_type": "code",
      "source": [
        "import numpy as np\n",
        "x = np.array([[1,2], [3,4]])\n",
        "print(np.sum(x))\n",
        "print(np.sum(x, axis =0))\n",
        "print(np.sum(x, axis =1))"
      ],
      "metadata": {
        "colab": {
          "base_uri": "https://localhost:8080/"
        },
        "id": "IUJdA915zgh7",
        "outputId": "aa7bab3a-8773-4542-d5e0-2e35b211ec0a"
      },
      "execution_count": 5,
      "outputs": [
        {
          "output_type": "stream",
          "name": "stdout",
          "text": [
            "10\n",
            "[4 6]\n",
            "[3 7]\n"
          ]
        }
      ]
    },
    {
      "cell_type": "code",
      "source": [
        "import numpy as np\n",
        "x = np.array([[1,2], [3,4]])\n",
        "print(x)\n",
        "print(x.T)\n",
        "v = np.array([1,2,3])\n",
        "print(v)\n",
        "print(v.T)"
      ],
      "metadata": {
        "colab": {
          "base_uri": "https://localhost:8080/"
        },
        "id": "JoJQbdpd0Can",
        "outputId": "d78f3c16-ba24-41d0-80c9-9bd627f49707"
      },
      "execution_count": 9,
      "outputs": [
        {
          "output_type": "stream",
          "name": "stdout",
          "text": [
            "[[1 2]\n",
            " [3 4]]\n",
            "[[1 3]\n",
            " [2 4]]\n",
            "[1 2 3]\n",
            "[1 2 3]\n"
          ]
        }
      ]
    }
  ]
}